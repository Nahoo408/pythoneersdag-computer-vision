{
 "cells": [
  {
   "cell_type": "markdown",
   "id": "614a28b5-d5a9-456b-ba94-330f1d79d0fa",
   "metadata": {},
   "source": [
    "## Check OpenCV version to test if everyhting is setup correctly."
   ]
  },
  {
   "cell_type": "code",
   "execution_count": 1,
   "id": "56e527a0-3c27-4e3d-8c28-cfd99433ecdc",
   "metadata": {},
   "outputs": [
    {
     "name": "stdout",
     "output_type": "stream",
     "text": [
      "4.11.0\n"
     ]
    }
   ],
   "source": [
    "import cv2\n",
    "print(cv2.__version__)"
   ]
  },
  {
   "cell_type": "markdown",
   "id": "e4202a49-e2ab-4773-bf25-e614d05e8629",
   "metadata": {},
   "source": [
    "## Easter egg detection with OpenCV\n",
    "\n",
    "In this notebook, you'll learn to use OpenCV's built-in object classifiers — with a focus on face detection using Haar cascades.\n",
    "\n",
    "🕒 Estimated time: 30 minutes\n",
    "\n",
    "Skills you'll practice:\n",
    "- Using `cv2.CascadeClassifier`\n",
    "- Drawing bounding boxes on images\n",
    "- Tuning detection parameters\n",
    "- (Bonus) Detecting other object types\n",
    "\n",
    "__Documentation:__ [OpenCV-docs](https://docs.opencv.org/4.11.0/d1/dfb/intro.html)"
   ]
  },
  {
   "cell_type": "markdown",
   "id": "bc2f4ece-6b06-4754-9d7f-b3f784c018a7",
   "metadata": {},
   "source": [
    "### Setup helper funcion"
   ]
  },
  {
   "cell_type": "code",
   "execution_count": 2,
   "id": "57090809-7819-42cd-bf34-6d5b008c16d4",
   "metadata": {},
   "outputs": [],
   "source": [
    "import cv2\n",
    "import numpy as np\n",
    "import matplotlib.pyplot as plt\n",
    "\n",
    "# Helper: Display OpenCV image in notebook\n",
    "def show_image(img, cmap=None):\n",
    "    plt.figure(figsize=(6,6))\n",
    "    plt.imshow(img if cmap else cv2.cvtColor(img, cv2.COLOR_BGR2RGB), cmap=cmap)\n",
    "    plt.axis('off')\n",
    "    plt.show()"
   ]
  },
  {
   "cell_type": "markdown",
   "id": "84f008d6-0369-4578-b060-6089a95d898a",
   "metadata": {},
   "source": [
    "### Test and show image"
   ]
  },
  {
   "cell_type": "code",
   "execution_count": null,
   "id": "c5e058f3-3784-4101-8d5b-961b78e23676",
   "metadata": {},
   "outputs": [],
   "source": []
  }
 ],
 "metadata": {
  "kernelspec": {
   "display_name": "Python 3 (ipykernel)",
   "language": "python",
   "name": "python3"
  },
  "language_info": {
   "codemirror_mode": {
    "name": "ipython",
    "version": 3
   },
   "file_extension": ".py",
   "mimetype": "text/x-python",
   "name": "python",
   "nbconvert_exporter": "python",
   "pygments_lexer": "ipython3",
   "version": "3.12.2"
  }
 },
 "nbformat": 4,
 "nbformat_minor": 5
}
