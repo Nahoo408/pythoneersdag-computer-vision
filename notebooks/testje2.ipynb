{
 "cells": [
  {
   "cell_type": "code",
   "id": "3a23370f-eca1-446a-a2b3-6fc777246173",
   "metadata": {
    "ExecuteTime": {
     "end_time": "2025-04-07T19:52:39.279909Z",
     "start_time": "2025-04-07T19:52:39.126834Z"
    }
   },
   "source": [
    "import cv2\n",
    "print(cv2.__version__)"
   ],
   "outputs": [
    {
     "name": "stdout",
     "output_type": "stream",
     "text": [
      "4.11.0\n"
     ]
    }
   ],
   "execution_count": 1
  },
  {
   "cell_type": "code",
   "execution_count": null,
   "id": "2f72041e-5a91-4026-9c63-a99cc3a1078e",
   "metadata": {},
   "outputs": [],
   "source": []
  }
 ],
 "metadata": {
  "kernelspec": {
   "display_name": "Python 3 (ipykernel)",
   "language": "python",
   "name": "python3"
  },
  "language_info": {
   "codemirror_mode": {
    "name": "ipython",
    "version": 3
   },
   "file_extension": ".py",
   "mimetype": "text/x-python",
   "name": "python",
   "nbconvert_exporter": "python",
   "pygments_lexer": "ipython3",
   "version": "3.12.2"
  }
 },
 "nbformat": 4,
 "nbformat_minor": 5
}
