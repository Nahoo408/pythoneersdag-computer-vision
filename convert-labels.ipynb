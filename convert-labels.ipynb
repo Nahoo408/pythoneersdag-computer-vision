{
 "cells": [
  {
   "cell_type": "markdown",
   "id": "5d458228-be8c-4e93-9df8-5e8f40365cc9",
   "metadata": {},
   "source": [
    "## Import libs"
   ]
  },
  {
   "cell_type": "code",
   "execution_count": 1,
   "id": "82f3e834-3910-4749-b45e-337e9c28f2a5",
   "metadata": {},
   "outputs": [],
   "source": [
    "import os\n",
    "from PIL import Image"
   ]
  },
  {
   "cell_type": "markdown",
   "id": "174333ed-eb37-45ea-b14f-a4b95de8ed77",
   "metadata": {},
   "source": [
    "## Convert labels to YOLO format"
   ]
  },
  {
   "cell_type": "code",
   "execution_count": 3,
   "id": "initial_id",
   "metadata": {},
   "outputs": [],
   "source": [
    "LABELS_DIR = './OID/Dataset/labels/val'  # folder with your current label .txt files\n",
    "IMAGES_DIR = './OID/Dataset/images/val'  # where the matching images are\n",
    "OUTPUT_DIR = './OID/Dataset/labels/yolo'  # where to save YOLO labels\n",
    "\n",
    "os.makedirs(OUTPUT_DIR, exist_ok=True)\n",
    "\n",
    "class_map = {'Egg': 0}\n",
    "\n",
    "for label_file in os.listdir(LABELS_DIR):\n",
    "    if not label_file.endswith('.txt'):\n",
    "        continue\n",
    "\n",
    "    label_path = os.path.join(LABELS_DIR, label_file)\n",
    "    image_name = os.path.splitext(label_file)[0] + '.jpg'\n",
    "    image_path = os.path.join(IMAGES_DIR, image_name)\n",
    "\n",
    "    if not os.path.exists(image_path):\n",
    "        print(f\"Image not found: {image_name}, skipping\")\n",
    "        continue\n",
    "\n",
    "    img = Image.open(image_path)\n",
    "    img_width, img_height = img.size\n",
    "\n",
    "    with open(label_path, 'r') as f:\n",
    "        lines = f.readlines()\n",
    "\n",
    "    new_lines = []\n",
    "    for line in lines:\n",
    "        parts = line.strip().split()\n",
    "        if len(parts) != 5:\n",
    "            print(f\"Invalid line: {line}\")\n",
    "            continue\n",
    "\n",
    "        class_name, x_min, y_min, x_max, y_max = parts\n",
    "        class_id = class_map.get(class_name)\n",
    "        if class_id is None:\n",
    "            print(f\"Unknown class: {class_name}\")\n",
    "            continue\n",
    "\n",
    "        x_min, y_min, x_max, y_max = map(float, (x_min, y_min, x_max, y_max))\n",
    "        x_center = (x_min + x_max) / 2 / img_width\n",
    "        y_center = (y_min + y_max) / 2 / img_height\n",
    "        width = (x_max - x_min) / img_width\n",
    "        height = (y_max - y_min) / img_height\n",
    "\n",
    "        new_line = f\"{class_id} {x_center:.6f} {y_center:.6f} {width:.6f} {height:.6f}\"\n",
    "        new_lines.append(new_line)\n",
    "\n",
    "    with open(os.path.join(OUTPUT_DIR, label_file), 'w') as f:\n",
    "        f.write('\\n'.join(new_lines))\n"
   ]
  }
 ],
 "metadata": {
  "kernelspec": {
   "display_name": "Python 3 (ipykernel)",
   "language": "python",
   "name": "python3"
  },
  "language_info": {
   "codemirror_mode": {
    "name": "ipython",
    "version": 3
   },
   "file_extension": ".py",
   "mimetype": "text/x-python",
   "name": "python",
   "nbconvert_exporter": "python",
   "pygments_lexer": "ipython3",
   "version": "3.12.2"
  }
 },
 "nbformat": 4,
 "nbformat_minor": 5
}
