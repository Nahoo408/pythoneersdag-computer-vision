{
 "cells": [
  {
   "cell_type": "markdown",
   "id": "8db3f6de-2475-4b45-9e10-f7f1321b16a8",
   "metadata": {},
   "source": [
    "# 3. Neural networks\n",
    "\n",
    "In this last notebook we will look into using state-of-the-art models to find the easter eggs. If these models are not able to find them, we'd better call off the search. We will be using neural networks, which are capable of detecting complex objects in complex and diverse environments. A drawback is that they are computationally heavy, not only during inference but especially during training. Another drawback is that training these networks requires large (labelled) datasets.\n",
    "\n",
    "Luckily for us, we can use the power of open source to make our lives easier. We will be using the `ultralytics`-package, which offers pre-trained models and an easy-to-use Python API."
   ]
  },
  {
   "cell_type": "code",
   "execution_count": null,
   "id": "44323a4a-574c-4bf1-8065-6fc7c8fdcb28",
   "metadata": {},
   "outputs": [],
   "source": [
    "from ultralytics import YOLO\n",
    "import cv2\n",
    "\n"
   ]
  }
 ],
 "metadata": {
  "kernelspec": {
   "display_name": "Python 3 (ipykernel)",
   "language": "python",
   "name": "python3"
  },
  "language_info": {
   "codemirror_mode": {
    "name": "ipython",
    "version": 3
   },
   "file_extension": ".py",
   "mimetype": "text/x-python",
   "name": "python",
   "nbconvert_exporter": "python",
   "pygments_lexer": "ipython3",
   "version": "3.11.9"
  }
 },
 "nbformat": 4,
 "nbformat_minor": 5
}
