{
 "cells": [
  {
   "cell_type": "code",
   "execution_count": 27,
   "id": "17d4f63f-4b34-45ae-bf3a-0779f04ba07d",
   "metadata": {},
   "outputs": [],
   "source": [
    "import os\n",
    "from os import listdir\n",
    "from os.path import isfile, join\n",
    "\n",
    "PATH = \"C:\\\\Users\\\\Nathan\\\\PycharmProjects\\\\computer-vision\\\\notebooks\\\\images\\\\easter_eggs\\\\negatives\\\\images\"\n",
    "OUTPUT_FILE = \"C:\\\\Users\\\\Nathan\\\\PycharmProjects\\\\computer-vision\\\\notebooks\\\\images\\\\easter_eggs\\\\negatives.txt\"\n",
    " \n",
    "if __name__ == \"__main__\":\n",
    "    file_names = [f for f in listdir(PATH) if isfile(join(PATH, f))]\n",
    " \n",
    "    with open(OUTPUT_FILE, \"w+\") as output_file:\n",
    "        for file_name in file_names:\n",
    "            output_file.write(f\"negatives\\\\images\\\\{file_name}\\n\")"
   ]
  },
  {
   "cell_type": "code",
   "execution_count": null,
   "id": "39cf8b11-9898-4af3-bd3f-ad1bd6fc5608",
   "metadata": {},
   "outputs": [],
   "source": []
  }
 ],
 "metadata": {
  "kernelspec": {
   "display_name": "Python 3 (ipykernel)",
   "language": "python",
   "name": "python3"
  },
  "language_info": {
   "codemirror_mode": {
    "name": "ipython",
    "version": 3
   },
   "file_extension": ".py",
   "mimetype": "text/x-python",
   "name": "python",
   "nbconvert_exporter": "python",
   "pygments_lexer": "ipython3",
   "version": "3.12.2"
  }
 },
 "nbformat": 4,
 "nbformat_minor": 5
}
